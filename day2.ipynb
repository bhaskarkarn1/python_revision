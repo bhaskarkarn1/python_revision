{
 "cells": [
  {
   "cell_type": "code",
   "execution_count": 1,
   "id": "b0c71579",
   "metadata": {},
   "outputs": [
    {
     "name": "stdout",
     "output_type": "stream",
     "text": [
      "[1, 2, 3, 4]\n"
     ]
    }
   ],
   "source": [
    "nums = [1, 2, 3, 4]\n",
    "mixed = [1, \"hi\", 3.14, True]\n",
    "print(nums)"
   ]
  },
  {
   "cell_type": "code",
   "execution_count": 2,
   "id": "9fd938f6",
   "metadata": {},
   "outputs": [
    {
     "name": "stdout",
     "output_type": "stream",
     "text": [
      "[1, 'hi', 3.14, True]\n"
     ]
    }
   ],
   "source": [
    "print(mixed)"
   ]
  },
  {
   "cell_type": "code",
   "execution_count": 3,
   "id": "03bdab10",
   "metadata": {},
   "outputs": [
    {
     "name": "stdout",
     "output_type": "stream",
     "text": [
      "[1, 2, 3, 4, 5]\n"
     ]
    }
   ],
   "source": [
    "nums.append(5)\n",
    "print(nums)"
   ]
  },
  {
   "cell_type": "code",
   "execution_count": 4,
   "id": "2ff4ac68",
   "metadata": {},
   "outputs": [
    {
     "name": "stdout",
     "output_type": "stream",
     "text": [
      "[1, 'hi', 3.14, True, 'Hello Mr.']\n"
     ]
    }
   ],
   "source": [
    "mixed.append(\"Hello Mr.\")\n",
    "print(mixed)"
   ]
  },
  {
   "cell_type": "code",
   "execution_count": 5,
   "id": "5a84fe44",
   "metadata": {},
   "outputs": [
    {
     "name": "stdout",
     "output_type": "stream",
     "text": [
      "[1, 2, 3, 4, 5, 7, 8]\n"
     ]
    }
   ],
   "source": [
    "nums.extend([7,8])\n",
    "print(nums)"
   ]
  },
  {
   "cell_type": "code",
   "execution_count": 6,
   "id": "7c29e7c2",
   "metadata": {},
   "outputs": [
    {
     "name": "stdout",
     "output_type": "stream",
     "text": [
      "[1, 100, 2, 3, 4, 5, 7, 8]\n"
     ]
    }
   ],
   "source": [
    "nums.insert(1,100)\n",
    "print(nums)"
   ]
  },
  {
   "cell_type": "code",
   "execution_count": null,
   "id": "c02a7c27",
   "metadata": {},
   "outputs": [],
   "source": [
    "nums.remove(100) # removes first match"
   ]
  },
  {
   "cell_type": "code",
   "execution_count": 8,
   "id": "aa1cea74",
   "metadata": {},
   "outputs": [
    {
     "name": "stdout",
     "output_type": "stream",
     "text": [
      "[1, 2, 3, 4, 5, 7, 8]\n"
     ]
    }
   ],
   "source": [
    "print(nums)"
   ]
  },
  {
   "cell_type": "code",
   "execution_count": null,
   "id": "c5c439a3",
   "metadata": {},
   "outputs": [],
   "source": [
    "popped = nums.pop() # removes last element"
   ]
  },
  {
   "cell_type": "code",
   "execution_count": 10,
   "id": "1a4f5814",
   "metadata": {},
   "outputs": [
    {
     "name": "stdout",
     "output_type": "stream",
     "text": [
      "[1, 2, 3, 4, 5, 7]\n"
     ]
    }
   ],
   "source": [
    "print(nums)"
   ]
  },
  {
   "cell_type": "code",
   "execution_count": 11,
   "id": "fb76c982",
   "metadata": {},
   "outputs": [],
   "source": [
    "squares = [x*x for x in range(5)]"
   ]
  },
  {
   "cell_type": "code",
   "execution_count": 12,
   "id": "a2e3c2f6",
   "metadata": {},
   "outputs": [
    {
     "name": "stdout",
     "output_type": "stream",
     "text": [
      "[0, 1, 4, 9, 16]\n"
     ]
    }
   ],
   "source": [
    "print(squares)"
   ]
  },
  {
   "cell_type": "code",
   "execution_count": 15,
   "id": "b790761c",
   "metadata": {},
   "outputs": [
    {
     "name": "stdout",
     "output_type": "stream",
     "text": [
      "[4, 3, 2, 1]\n"
     ]
    }
   ],
   "source": [
    "#reverse a list\n",
    "arr =[1,2,3,4]\n",
    "print(arr[::-1])"
   ]
  },
  {
   "cell_type": "code",
   "execution_count": 17,
   "id": "d134ba3b",
   "metadata": {},
   "outputs": [],
   "source": [
    "arr.reverse()"
   ]
  },
  {
   "cell_type": "code",
   "execution_count": 18,
   "id": "9bbfdfe5",
   "metadata": {},
   "outputs": [],
   "source": [
    "rev = []\n",
    "for i in range(len(arr)-1,-1,-1):\n",
    "    rev.append(arr[i])"
   ]
  },
  {
   "cell_type": "code",
   "execution_count": 19,
   "id": "8fe3b25a",
   "metadata": {},
   "outputs": [
    {
     "name": "stdout",
     "output_type": "stream",
     "text": [
      "[4, 5, 1, 2, 3]\n"
     ]
    }
   ],
   "source": [
    "arr = [1, 2, 3, 4, 5]\n",
    "k = 2\n",
    "k = k % len(arr)\n",
    "rotated = arr[-k:] + arr[:-k]\n",
    "print(rotated)"
   ]
  },
  {
   "cell_type": "code",
   "execution_count": 20,
   "id": "dbaa4581",
   "metadata": {},
   "outputs": [
    {
     "name": "stdout",
     "output_type": "stream",
     "text": [
      "[1, 2, 3, 4]\n"
     ]
    }
   ],
   "source": [
    "arr = [1,2,2,3,1,4]\n",
    "print(list(set(arr)))"
   ]
  },
  {
   "cell_type": "code",
   "execution_count": 21,
   "id": "089ef132",
   "metadata": {},
   "outputs": [
    {
     "name": "stdout",
     "output_type": "stream",
     "text": [
      "[9, 8, 7, 6, 5, 4, 3, 2, 1]\n"
     ]
    }
   ],
   "source": [
    "#Write a function to reverse a list in place without using .reverse() or slicing.\n",
    "arr = [1,2,3,4,5,6,7,8,9]\n",
    "print(arr[::-1])"
   ]
  },
  {
   "cell_type": "code",
   "execution_count": 22,
   "id": "ca1c9a33",
   "metadata": {},
   "outputs": [
    {
     "name": "stdout",
     "output_type": "stream",
     "text": [
      "[40, 50, 60, 10, 20, 30]\n"
     ]
    }
   ],
   "source": [
    "#Rotate [10,20,30,40,50,60] by k=3.\n",
    "arr =[10,20,30,40,50,60]\n",
    "k = 3\n",
    "k = k % len(arr)\n",
    "rotated = arr[-k:]+arr[:-k]\n",
    "print(rotated)"
   ]
  },
  {
   "cell_type": "code",
   "execution_count": 24,
   "id": "58a89977",
   "metadata": {},
   "outputs": [
    {
     "name": "stdout",
     "output_type": "stream",
     "text": [
      "[1, 3, 5] [2, 4, 6]\n"
     ]
    }
   ],
   "source": [
    "#Given a list of tuples [(1,2),(3,4),(5,6)], unpack into two lists: [1,3,5] and [2,4,6].\n",
    "pairs = [(1,2),(3,4),(5,6)]\n",
    "a = [x for x, y in pairs]\n",
    "b = [y for x, y in pairs]\n",
    "print (a,b)"
   ]
  },
  {
   "cell_type": "code",
   "execution_count": 29,
   "id": "d21bbfe0",
   "metadata": {},
   "outputs": [
    {
     "name": "stdout",
     "output_type": "stream",
     "text": [
      "40\n"
     ]
    }
   ],
   "source": [
    "#Find the second largest element in a list.\n",
    "arr = [10,20,30,40,50]\n",
    "unique = list(set(arr))\n",
    "unique.sort()\n",
    "print(unique[-2])"
   ]
  }
 ],
 "metadata": {
  "kernelspec": {
   "display_name": "Python 3",
   "language": "python",
   "name": "python3"
  },
  "language_info": {
   "codemirror_mode": {
    "name": "ipython",
    "version": 3
   },
   "file_extension": ".py",
   "mimetype": "text/x-python",
   "name": "python",
   "nbconvert_exporter": "python",
   "pygments_lexer": "ipython3",
   "version": "3.10.18"
  }
 },
 "nbformat": 4,
 "nbformat_minor": 5
}
