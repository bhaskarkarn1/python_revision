{
 "cells": [
  {
   "cell_type": "code",
   "execution_count": 52,
   "id": "6d275170",
   "metadata": {},
   "outputs": [
    {
     "name": "stdout",
     "output_type": "stream",
     "text": [
      "[1, 2, 3, 4]\n"
     ]
    }
   ],
   "source": [
    "a = [1, 2, 3]\n",
    "b = a\n",
    "b.append(4)\n",
    "print(a)"
   ]
  },
  {
   "cell_type": "code",
   "execution_count": 53,
   "id": "0adf5ce5",
   "metadata": {},
   "outputs": [
    {
     "name": "stdout",
     "output_type": "stream",
     "text": [
      "Hello-World!!\n"
     ]
    }
   ],
   "source": [
    "print(\"Hello\",\"World\", sep = \"-\", end =\"!!\\n\")"
   ]
  },
  {
   "cell_type": "code",
   "execution_count": 54,
   "id": "b880c824",
   "metadata": {},
   "outputs": [
    {
     "name": "stdout",
     "output_type": "stream",
     "text": [
      "7.0 <class 'float'>\n"
     ]
    }
   ],
   "source": [
    "a = 5\n",
    "b = 2.0\n",
    "c = a + b\n",
    "print(c ,type(c))"
   ]
  },
  {
   "cell_type": "code",
   "execution_count": null,
   "id": "f18283cb",
   "metadata": {},
   "outputs": [
    {
     "name": "stdout",
     "output_type": "stream",
     "text": [
      "My name is Alice and I am 22 years old\n"
     ]
    }
   ],
   "source": [
    "name = \"Alice\"\n",
    "age = 22\n",
    "print(f\"My name is {name} and I am {age} years old\")"
   ]
  },
  {
   "cell_type": "code",
   "execution_count": null,
   "id": "ded8bfc0",
   "metadata": {},
   "outputs": [
    {
     "name": "stdout",
     "output_type": "stream",
     "text": [
      "5 + 2 = 7\n"
     ]
    }
   ],
   "source": [
    "print(f\"5 + 2 = {5+2}\")"
   ]
  },
  {
   "cell_type": "code",
   "execution_count": null,
   "id": "803c7e7b",
   "metadata": {},
   "outputs": [
    {
     "name": "stdout",
     "output_type": "stream",
     "text": [
      "3.14\n",
      "1,000\n"
     ]
    }
   ],
   "source": [
    "pi = 3.14159\n",
    "print(f\"{pi:.2f}\")\n",
    "print(f\"{1000:,}\")"
   ]
  },
  {
   "cell_type": "code",
   "execution_count": null,
   "id": "cff5aa7a",
   "metadata": {},
   "outputs": [
    {
     "name": "stdout",
     "output_type": "stream",
     "text": [
      "PTO\n"
     ]
    }
   ],
   "source": [
    "s = \"PYTHON\"\n",
    "print (s[::2])"
   ]
  },
  {
   "cell_type": "code",
   "execution_count": null,
   "id": "d1f47a2b",
   "metadata": {},
   "outputs": [
    {
     "name": "stdout",
     "output_type": "stream",
     "text": [
      "raksahB\n"
     ]
    }
   ],
   "source": [
    "#Take a string input, print it reversed using slicing.\n",
    "s = \"Bhaskar\"\n",
    "print(s[::-1])"
   ]
  },
  {
   "cell_type": "code",
   "execution_count": null,
   "id": "d2c0cbab",
   "metadata": {},
   "outputs": [
    {
     "name": "stdout",
     "output_type": "stream",
     "text": [
      "The no. is even\n"
     ]
    }
   ],
   "source": [
    "#Take an integer input, print whether it’s odd/even.\n",
    "a = 1011010\n",
    "if(a%2 ==0):\n",
    "    print(f\"The no. is even\")\n",
    "else:\n",
    "    print(f\"The no. is odd\")"
   ]
  },
  {
   "cell_type": "code",
   "execution_count": null,
   "id": "b8719088",
   "metadata": {},
   "outputs": [
    {
     "name": "stdout",
     "output_type": "stream",
     "text": [
      "After swap: a= 10 b= 5\n"
     ]
    }
   ],
   "source": [
    "#Write a program that swaps two variables without using a third variable.\n",
    "a = 5\n",
    "b = 10\n",
    "a,b = b,a\n",
    "print(\"After swap: a=\",a, \"b=\",b)"
   ]
  },
  {
   "cell_type": "code",
   "execution_count": null,
   "id": "f5f4e4d5",
   "metadata": {},
   "outputs": [
    {
     "name": "stdout",
     "output_type": "stream",
     "text": [
      "Print till 2 digit decimal place: 5.023\n"
     ]
    }
   ],
   "source": [
    "#Take a float input and print it rounded to 2 decimal places using f-string.\n",
    "a = 5.02347\n",
    "print(f\"Print till 2 digit decimal place: {a:.3f}\")"
   ]
  },
  {
   "cell_type": "code",
   "execution_count": null,
   "id": "3c5da379",
   "metadata": {},
   "outputs": [
    {
     "name": "stdout",
     "output_type": "stream",
     "text": [
      "Orginal List [1, 2, 2, 3, 3, 3, 4, 4, 4, 4, 5]\n",
      "Set: {1, 2, 3, 4, 5}\n",
      "Tuple: (1, 2, 3, 4, 5)\n",
      "Final List: [1, 2, 3, 4, 5]\n"
     ]
    }
   ],
   "source": [
    "#Convert: list → set → tuple → back to list.\n",
    "my_list = [1,2,2,3,3,3,4,4,4,4,5]\n",
    "print(\"Orginal List\",my_list)\n",
    "\n",
    "my_set = set(my_list)\n",
    "print(\"Set:\",my_set)\n",
    "\n",
    "my_tuple = tuple(my_set)\n",
    "print(\"Tuple:\", my_tuple)\n",
    "\n",
    "final_list = list(my_tuple)\n",
    "print(\"Final List:\", final_list)"
   ]
  },
  {
   "cell_type": "code",
   "execution_count": null,
   "id": "a0ed4f76",
   "metadata": {},
   "outputs": [
    {
     "name": "stdout",
     "output_type": "stream",
     "text": [
      "A-B-C!!\n"
     ]
    }
   ],
   "source": [
    "#Print a sentence with print() using custom sep and end.\n",
    "print(\"A\",\"B\",\"C\", sep = \"-\", end = \"!!\\n\")"
   ]
  },
  {
   "cell_type": "code",
   "execution_count": null,
   "id": "a91d76aa",
   "metadata": {},
   "outputs": [],
   "source": []
  }
 ],
 "metadata": {
  "kernelspec": {
   "display_name": "Python 3",
   "language": "python",
   "name": "python3"
  },
  "language_info": {
   "codemirror_mode": {
    "name": "ipython",
    "version": 3
   },
   "file_extension": ".py",
   "mimetype": "text/x-python",
   "name": "python",
   "nbconvert_exporter": "python",
   "pygments_lexer": "ipython3",
   "version": "3.10.18"
  }
 },
 "nbformat": 4,
 "nbformat_minor": 5
}
