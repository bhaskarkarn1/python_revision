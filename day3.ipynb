{
 "cells": [
  {
   "cell_type": "code",
   "execution_count": 1,
   "id": "a42e9fb9",
   "metadata": {},
   "outputs": [],
   "source": [
    "#dictionaries"
   ]
  },
  {
   "cell_type": "code",
   "execution_count": 2,
   "id": "c0981e5e",
   "metadata": {},
   "outputs": [],
   "source": [
    "student = {\"name\": \"Alice\", \"age\":\"21\", \"location\":\"Mumbai\"}"
   ]
  },
  {
   "cell_type": "code",
   "execution_count": 3,
   "id": "6c277677",
   "metadata": {},
   "outputs": [
    {
     "name": "stdout",
     "output_type": "stream",
     "text": [
      "None\n"
     ]
    }
   ],
   "source": [
    "print(student.get(\"roll\"))"
   ]
  },
  {
   "cell_type": "code",
   "execution_count": 4,
   "id": "657ca3b5",
   "metadata": {},
   "outputs": [
    {
     "name": "stdout",
     "output_type": "stream",
     "text": [
      "Alice\n"
     ]
    }
   ],
   "source": [
    "print(student.get(\"name\"))"
   ]
  },
  {
   "cell_type": "code",
   "execution_count": 5,
   "id": "9a8d0367",
   "metadata": {},
   "outputs": [
    {
     "name": "stdout",
     "output_type": "stream",
     "text": [
      "22\n"
     ]
    }
   ],
   "source": [
    "student[\"age\"] = 22\n",
    "print(student.get(\"age\"))"
   ]
  },
  {
   "cell_type": "code",
   "execution_count": 7,
   "id": "18e8bc52",
   "metadata": {},
   "outputs": [
    {
     "name": "stdout",
     "output_type": "stream",
     "text": [
      "Delhi\n"
     ]
    }
   ],
   "source": [
    "student[\"city\"] = \"Delhi\"\n",
    "print(student.get(\"city\"))"
   ]
  },
  {
   "cell_type": "code",
   "execution_count": 8,
   "id": "4f0ccf3e",
   "metadata": {},
   "outputs": [
    {
     "name": "stdout",
     "output_type": "stream",
     "text": [
      "name Alice\n",
      "age 22\n",
      "location Mumbai\n",
      "city Delhi\n"
     ]
    }
   ],
   "source": [
    "for key, value in student.items():\n",
    "    print(key,value)"
   ]
  },
  {
   "cell_type": "code",
   "execution_count": 11,
   "id": "49213404",
   "metadata": {},
   "outputs": [
    {
     "name": "stdout",
     "output_type": "stream",
     "text": [
      "{0: 0, 1: 1, 2: 4, 3: 9, 4: 16}\n"
     ]
    }
   ],
   "source": [
    "#dictionary comprehension\n",
    "\n",
    "squares = {x: x*x for x in range(5)}\n",
    "print(squares)"
   ]
  },
  {
   "cell_type": "code",
   "execution_count": 12,
   "id": "de5ae1b8",
   "metadata": {},
   "outputs": [
    {
     "name": "stdout",
     "output_type": "stream",
     "text": [
      "{1, 2, 3}\n"
     ]
    }
   ],
   "source": [
    "s = {1, 2, 3, 3}\n",
    "print(s)"
   ]
  },
  {
   "cell_type": "code",
   "execution_count": 14,
   "id": "478b5992",
   "metadata": {},
   "outputs": [
    {
     "name": "stdout",
     "output_type": "stream",
     "text": [
      "{1, 2, 3, 4, 5, 6, 7, 8}\n",
      "{3, 4, 5}\n",
      "{1, 2}\n",
      "{1, 2, 6, 7, 8}\n"
     ]
    }
   ],
   "source": [
    "a = {1, 2, 3, 4, 5}\n",
    "b = {3, 4, 5, 6, 7, 8}\n",
    "\n",
    "print(a | b)\n",
    "print(a & b)\n",
    "print(a - b)\n",
    "print(a ^ b)"
   ]
  },
  {
   "cell_type": "code",
   "execution_count": 15,
   "id": "bc4475f2",
   "metadata": {},
   "outputs": [
    {
     "name": "stdout",
     "output_type": "stream",
     "text": [
      "{1: 1, 2: 1, 3: 3, 4: 1}\n"
     ]
    }
   ],
   "source": [
    "#Frequency Counts\n",
    "\n",
    "arr = [1, 2, 3, 3, 3, 4]\n",
    "freq = {}\n",
    "for num in arr:\n",
    "    freq[num] = freq.get(num, 0) + 1\n",
    "print(freq)"
   ]
  },
  {
   "cell_type": "code",
   "execution_count": null,
   "id": "822c9352",
   "metadata": {},
   "outputs": [
    {
     "name": "stdout",
     "output_type": "stream",
     "text": [
      "Counter({3: 3, 1: 1, 2: 1, 4: 1})\n"
     ]
    }
   ],
   "source": [
    "#using collections.Counter\n",
    "from collections import Counter\n",
    "print(Counter(arr))"
   ]
  },
  {
   "cell_type": "code",
   "execution_count": 17,
   "id": "51a17e8e",
   "metadata": {},
   "outputs": [
    {
     "name": "stdout",
     "output_type": "stream",
     "text": [
      "True\n"
     ]
    }
   ],
   "source": [
    "#Anagram Check - Two strings are anagrams if sorted letters or frequency match.\n",
    "\n",
    "def is_anagram(s1, s2):\n",
    "    return sorted(s1) == sorted(s2)\n",
    "print(is_anagram(\"listen\",\"silent\"))"
   ]
  },
  {
   "cell_type": "code",
   "execution_count": 21,
   "id": "b136d4e6",
   "metadata": {},
   "outputs": [],
   "source": [
    "#Anagram check - from counter\n",
    "from collections import Counter\n",
    "def is_anagram(s1, s2):\n",
    "    return Counter(s1) == Counter(s2)"
   ]
  },
  {
   "cell_type": "code",
   "execution_count": 22,
   "id": "f6a8fe5d",
   "metadata": {},
   "outputs": [
    {
     "name": "stdout",
     "output_type": "stream",
     "text": [
      "[0, 1, 2, 3, 4, 5]\n"
     ]
    }
   ],
   "source": [
    "#remove duplicates\n",
    "arr = [1,2,3,3,4,5,2,3,1,0]\n",
    "print(list(set(arr)))"
   ]
  },
  {
   "cell_type": "code",
   "execution_count": 24,
   "id": "ea9eae62",
   "metadata": {},
   "outputs": [
    {
     "name": "stdout",
     "output_type": "stream",
     "text": [
      "Counter({'i': 4, 's': 4, 'p': 2, 'm': 1})\n"
     ]
    }
   ],
   "source": [
    "#Count frequency of characters in \"mississippi\".\n",
    "from collections import Counter\n",
    "arr1 = ['m','i','s','s','i','s','s','i','p','p','i']\n",
    "print(Counter(arr1))"
   ]
  },
  {
   "cell_type": "code",
   "execution_count": 25,
   "id": "3480fcdc",
   "metadata": {},
   "outputs": [
    {
     "name": "stdout",
     "output_type": "stream",
     "text": [
      "[3, 4, 5]\n"
     ]
    }
   ],
   "source": [
    "#Find intersection of two lists using sets.\n",
    "list1 = [1, 2, 3, 4, 5]\n",
    "list2 = [3, 4, 5, 6, 7]\n",
    "\n",
    "set2 = set(list2)\n",
    "intersection = [x for x in list1 if x in list2]\n",
    "print(intersection)"
   ]
  },
  {
   "cell_type": "code",
   "execution_count": 29,
   "id": "b71de3dc",
   "metadata": {},
   "outputs": [
    {
     "name": "stdout",
     "output_type": "stream",
     "text": [
      "False\n"
     ]
    }
   ],
   "source": [
    "#Given arr = [1,2,3,4,5], check if a subset [2,3,5] exists.\n",
    "arr = [1, 2, 3, 4, 5]\n",
    "sub = [2, 3, 7]\n",
    "print(all(x in arr for x in sub))"
   ]
  },
  {
   "cell_type": "code",
   "execution_count": 34,
   "id": "0b56cc5e",
   "metadata": {},
   "outputs": [
    {
     "name": "stdout",
     "output_type": "stream",
     "text": [
      "m\n"
     ]
    }
   ],
   "source": [
    "#Find first non-repeating character in a string.\n",
    "from collections import Counter\n",
    "\n",
    "def first_non_repeating(s):\n",
    "    freq = Counter(s)\n",
    "    for ch in s:\n",
    "        if freq[ch] == 1:\n",
    "            return ch\n",
    "    return None\n",
    "\n",
    "print(first_non_repeating(\"mississippi\"))"
   ]
  }
 ],
 "metadata": {
  "kernelspec": {
   "display_name": "Python 3",
   "language": "python",
   "name": "python3"
  },
  "language_info": {
   "codemirror_mode": {
    "name": "ipython",
    "version": 3
   },
   "file_extension": ".py",
   "mimetype": "text/x-python",
   "name": "python",
   "nbconvert_exporter": "python",
   "pygments_lexer": "ipython3",
   "version": "3.10.18"
  }
 },
 "nbformat": 4,
 "nbformat_minor": 5
}
